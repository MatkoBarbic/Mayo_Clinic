{
 "cells": [
  {
   "cell_type": "code",
   "execution_count": 1,
   "id": "fa7cdfb6",
   "metadata": {
    "_cell_guid": "b1076dfc-b9ad-4769-8c92-a6c4dae69d19",
    "_uuid": "8f2839f25d086af736a60e9eeb907d3b93b6e0e5",
    "execution": {
     "iopub.execute_input": "2022-10-05T23:24:13.956537Z",
     "iopub.status.busy": "2022-10-05T23:24:13.955543Z",
     "iopub.status.idle": "2022-10-05T23:24:14.462282Z",
     "shell.execute_reply": "2022-10-05T23:24:14.461297Z"
    },
    "papermill": {
     "duration": 0.517561,
     "end_time": "2022-10-05T23:24:14.465123",
     "exception": false,
     "start_time": "2022-10-05T23:24:13.947562",
     "status": "completed"
    },
    "tags": []
   },
   "outputs": [],
   "source": [
    "import numpy as np # linear algebra\n",
    "import pandas as pd # data processing, CSV file I/O (e.g. pd.read_csv)\n",
    "import matplotlib.pyplot as plt\n",
    "import cv2\n",
    "import tifffile as tifi\n",
    "import openslide\n",
    "# from PIL import Image\n",
    "\n",
    "# Input data files are available in the read-only \"../input/\" directory\n",
    "# For example, running this (by clicking run or pressing Shift+Enter) will list all files under the input directory\n",
    "\n",
    "import os\n",
    "# img = tifi.imread(\"../input/mayo-clinic-strip-ai/test/008e5c_0.tif\")\n",
    "# plt.imshow(cv2.flip(img, 0))\n",
    "# plt.show()\n",
    "\n",
    "# slide = openslide.open_slide(\"../input/mayo-clinic-strip-ai/test/008e5c_0.tif\")\n",
    "\n",
    "from openslide.deepzoom import DeepZoomGenerator\n",
    "\n",
    "# tiles = DeepZoomGenerator(slide, tile_size=512, overlap=0, limit_bounds=False)\n",
    "# print(\"Number of tiles:\", tiles.tile_count)\n",
    "# print(\"Number of tile levels:\", tiles.level_count)\n",
    "# print(\"Tiles levels:\", tiles.level_tiles)\n",
    "# print(\"Tiles level dimensions:\", tiles.level_dimensions)\n",
    "# NUM_LEVELS = 13\n",
    "# # print(tiles.get_tile_dimensions(NUM_LEVELS, (5,28)))\n",
    "# for i in range(tiles.level_dimensions[NUM_LEVELS][0]//512 + 1):\n",
    "#     for j in range(tiles.level_dimensions[NUM_LEVELS][1]//512 + 1):\n",
    "#         tile = tiles.get_tile(NUM_LEVELS, (i, j))\n",
    "#         print(\"Tile mean value:\", np.array(tile).mean())\n",
    "#         print(\"Tile standard deviation:\", np.array(tile).std())\n",
    "#         plt.imshow(tile)\n",
    "#         plt.show()\n",
    "# # plt.imshow(tiles.get_tile(14, (0,0)))\n",
    "# # plt.show()"
   ]
  },
  {
   "cell_type": "code",
   "execution_count": 2,
   "id": "2793a51a",
   "metadata": {
    "execution": {
     "iopub.execute_input": "2022-10-05T23:24:14.475828Z",
     "iopub.status.busy": "2022-10-05T23:24:14.475464Z",
     "iopub.status.idle": "2022-10-05T23:24:14.479982Z",
     "shell.execute_reply": "2022-10-05T23:24:14.479130Z"
    },
    "papermill": {
     "duration": 0.012067,
     "end_time": "2022-10-05T23:24:14.481939",
     "exception": false,
     "start_time": "2022-10-05T23:24:14.469872",
     "status": "completed"
    },
    "tags": []
   },
   "outputs": [],
   "source": [
    "# pip install pqdm"
   ]
  },
  {
   "cell_type": "code",
   "execution_count": 3,
   "id": "7eeebf3a",
   "metadata": {
    "execution": {
     "iopub.execute_input": "2022-10-05T23:24:14.492900Z",
     "iopub.status.busy": "2022-10-05T23:24:14.492277Z",
     "iopub.status.idle": "2022-10-05T23:24:14.496714Z",
     "shell.execute_reply": "2022-10-05T23:24:14.496009Z"
    },
    "papermill": {
     "duration": 0.01222,
     "end_time": "2022-10-05T23:24:14.498812",
     "exception": false,
     "start_time": "2022-10-05T23:24:14.486592",
     "status": "completed"
    },
    "tags": []
   },
   "outputs": [],
   "source": [
    "# from pqdm.processes import pqdm\n",
    "from tqdm import tqdm\n",
    "\n",
    "train_csv_path = \"../input/mayo-clinic-strip-ai/train.csv\"\n",
    "train_images_path = \"../input/mayo-clinic-strip-ai/train/\"\n",
    "\n",
    "test_csv_path = \"../input/mayo-clinic-strip-ai/test.csv\"\n",
    "test_images_path = \"../input/mayo-clinic-strip-ai/test/\"\n",
    "\n",
    "IMG_SIZE = 300"
   ]
  },
  {
   "cell_type": "code",
   "execution_count": 4,
   "id": "8f530790",
   "metadata": {
    "execution": {
     "iopub.execute_input": "2022-10-05T23:24:14.509512Z",
     "iopub.status.busy": "2022-10-05T23:24:14.508918Z",
     "iopub.status.idle": "2022-10-05T23:24:14.558255Z",
     "shell.execute_reply": "2022-10-05T23:24:14.557127Z"
    },
    "papermill": {
     "duration": 0.057954,
     "end_time": "2022-10-05T23:24:14.561155",
     "exception": false,
     "start_time": "2022-10-05T23:24:14.503201",
     "status": "completed"
    },
    "tags": []
   },
   "outputs": [
    {
     "name": "stdout",
     "output_type": "stream",
     "text": [
      "<class 'pandas.core.frame.DataFrame'>\n",
      "RangeIndex: 754 entries, 0 to 753\n",
      "Data columns (total 5 columns):\n",
      " #   Column      Non-Null Count  Dtype \n",
      "---  ------      --------------  ----- \n",
      " 0   image_id    754 non-null    object\n",
      " 1   center_id   754 non-null    int64 \n",
      " 2   patient_id  754 non-null    object\n",
      " 3   image_num   754 non-null    int64 \n",
      " 4   label       754 non-null    object\n",
      "dtypes: int64(2), object(3)\n",
      "memory usage: 29.6+ KB\n"
     ]
    }
   ],
   "source": [
    "train_csv = pd.read_csv(train_csv_path)\n",
    "train_csv.info()\n",
    "\n",
    "test_csv = pd.read_csv(test_csv_path)"
   ]
  },
  {
   "cell_type": "code",
   "execution_count": 5,
   "id": "3b7f90c4",
   "metadata": {
    "execution": {
     "iopub.execute_input": "2022-10-05T23:24:14.572140Z",
     "iopub.status.busy": "2022-10-05T23:24:14.571700Z",
     "iopub.status.idle": "2022-10-05T23:24:14.758023Z",
     "shell.execute_reply": "2022-10-05T23:24:14.756751Z"
    },
    "papermill": {
     "duration": 0.195277,
     "end_time": "2022-10-05T23:24:14.761135",
     "exception": false,
     "start_time": "2022-10-05T23:24:14.565858",
     "status": "completed"
    },
    "tags": []
   },
   "outputs": [
    {
     "data": {
      "text/plain": [
       "<AxesSubplot:>"
      ]
     },
     "execution_count": 5,
     "metadata": {},
     "output_type": "execute_result"
    },
    {
     "data": {
      "image/png": "[encoded data removed]",
      "text/plain": [
       "<Figure size 432x288 with 1 Axes>"
      ]
     },
     "metadata": {
      "needs_background": "light"
     },
     "output_type": "display_data"
    }
   ],
   "source": [
    "train_csv[\"label\"].value_counts().plot(kind=\"bar\")"
   ]
  },
  {
   "cell_type": "markdown",
   "id": "19bf2e04",
   "metadata": {
    "papermill": {
     "duration": 0.004916,
     "end_time": "2022-10-05T23:24:14.773196",
     "exception": false,
     "start_time": "2022-10-05T23:24:14.768280",
     "status": "completed"
    },
    "tags": []
   },
   "source": [
    "The dataset is unbalanced"
   ]
  },
  {
   "cell_type": "code",
   "execution_count": 6,
   "id": "5fbc7b0f",
   "metadata": {
    "execution": {
     "iopub.execute_input": "2022-10-05T23:24:14.786995Z",
     "iopub.status.busy": "2022-10-05T23:24:14.786244Z",
     "iopub.status.idle": "2022-10-05T23:24:29.223451Z",
     "shell.execute_reply": "2022-10-05T23:24:29.221618Z"
    },
    "papermill": {
     "duration": 14.447696,
     "end_time": "2022-10-05T23:24:29.226180",
     "exception": false,
     "start_time": "2022-10-05T23:24:14.778484",
     "status": "completed"
    },
    "tags": []
   },
   "outputs": [
    {
     "name": "stdout",
     "output_type": "stream",
     "text": [
      "Collecting imagesize\r\n",
      "  Downloading imagesize-1.4.1-py2.py3-none-any.whl (8.8 kB)\r\n",
      "Installing collected packages: imagesize\r\n",
      "Successfully installed imagesize-1.4.1\r\n",
      "\u001b[33mWARNING: Running pip as the 'root' user can result in broken permissions and conflicting behaviour with the system package manager. It is recommended to use a virtual environment instead: https://pip.pypa.io/warnings/venv\u001b[0m\u001b[33m\r\n",
      "\u001b[0mNote: you may need to restart the kernel to use updated packages.\n"
     ]
    }
   ],
   "source": [
    "pip install imagesize"
   ]
  },
  {
   "cell_type": "code",
   "execution_count": 7,
   "id": "d9b4dc28",
   "metadata": {
    "execution": {
     "iopub.execute_input": "2022-10-05T23:24:29.240089Z",
     "iopub.status.busy": "2022-10-05T23:24:29.239610Z",
     "iopub.status.idle": "2022-10-05T23:24:40.252138Z",
     "shell.execute_reply": "2022-10-05T23:24:40.250167Z"
    },
    "papermill": {
     "duration": 11.022975,
     "end_time": "2022-10-05T23:24:40.254938",
     "exception": false,
     "start_time": "2022-10-05T23:24:29.231963",
     "status": "completed"
    },
    "tags": []
   },
   "outputs": [
    {
     "name": "stdout",
     "output_type": "stream",
     "text": [
      "Requirement already satisfied: tabulate in /opt/conda/lib/python3.7/site-packages (0.8.10)\r\n",
      "\u001b[33mWARNING: Running pip as the 'root' user can result in broken permissions and conflicting behaviour with the system package manager. It is recommended to use a virtual environment instead: https://pip.pypa.io/warnings/venv\u001b[0m\u001b[33m\r\n",
      "\u001b[0mNote: you may need to restart the kernel to use updated packages.\n"
     ]
    }
   ],
   "source": [
    "pip install tabulate"
   ]
  },
  {
   "cell_type": "code",
   "execution_count": 8,
   "id": "6d42753a",
   "metadata": {
    "execution": {
     "iopub.execute_input": "2022-10-05T23:24:40.270161Z",
     "iopub.status.busy": "2022-10-05T23:24:40.269387Z",
     "iopub.status.idle": "2022-10-05T23:24:58.007203Z",
     "shell.execute_reply": "2022-10-05T23:24:58.005512Z"
    },
    "papermill": {
     "duration": 17.749019,
     "end_time": "2022-10-05T23:24:58.010032",
     "exception": false,
     "start_time": "2022-10-05T23:24:40.261013",
     "status": "completed"
    },
    "tags": []
   },
   "outputs": [
    {
     "name": "stderr",
     "output_type": "stream",
     "text": [
      "100%|██████████| 753/753 [00:17<00:00, 42.69it/s]"
     ]
    },
    {
     "name": "stdout",
     "output_type": "stream",
     "text": [
      "            min         max\n",
      "-----  --------  ----------\n",
      "size   23471938  4896084492\n",
      "width      4417       99699\n",
      "hight      4470      118076\n",
      "Smallest image id: b43ebe_0\n",
      "Largest image id: 6baf51_0\n"
     ]
    },
    {
     "name": "stderr",
     "output_type": "stream",
     "text": [
      "\n"
     ]
    }
   ],
   "source": [
    "import imagesize\n",
    "from tabulate import tabulate\n",
    "\n",
    "min_w, min_h = imagesize.get(\"../input/mayo-clinic-strip-ai/train/006388_0.tif\")\n",
    "max_w, max_h = min_w, min_h\n",
    "min_size = max_size = min_w * min_h\n",
    "names = [\"\" for i in range(6)]\n",
    "\n",
    "for image_id in tqdm(train_csv[\"image_id\"][1:]):\n",
    "    w, h = imagesize.get(train_images_path + image_id + \".tif\")\n",
    "    if w < min_w:\n",
    "        min_w = w\n",
    "        names[0] = image_id\n",
    "    if w > max_w:\n",
    "        max_w = w\n",
    "        names[1] = image_id\n",
    "    if h < min_h:\n",
    "        min_h = h\n",
    "        names[2] = image_id\n",
    "    if h > max_h:\n",
    "        max_h = h\n",
    "        names[3] = image_id\n",
    "    if w * h < min_size:\n",
    "        min_size = w * h\n",
    "        names[4] = image_id\n",
    "    if w * h > max_size:\n",
    "        max_size = w * h\n",
    "        names[5] = image_id\n",
    "\n",
    "data = [[\"size\", min_size, max_size], [\"width\", min_w, max_w], [\"hight\", min_h, max_h]]\n",
    "print(tabulate(data, headers=[\"min\", \"max\"]))\n",
    "print(\"Smallest image id:\", names[4])\n",
    "print(\"Largest image id:\", names[5])"
   ]
  },
  {
   "cell_type": "code",
   "execution_count": 9,
   "id": "afa680e1",
   "metadata": {
    "execution": {
     "iopub.execute_input": "2022-10-05T23:24:58.042979Z",
     "iopub.status.busy": "2022-10-05T23:24:58.042563Z",
     "iopub.status.idle": "2022-10-05T23:25:03.935558Z",
     "shell.execute_reply": "2022-10-05T23:25:03.934287Z"
    },
    "papermill": {
     "duration": 5.912778,
     "end_time": "2022-10-05T23:25:03.938313",
     "exception": false,
     "start_time": "2022-10-05T23:24:58.025535",
     "status": "completed"
    },
    "tags": []
   },
   "outputs": [],
   "source": [
    "import tensorflow as tf"
   ]
  },
  {
   "cell_type": "markdown",
   "id": "dca238e9",
   "metadata": {
    "papermill": {
     "duration": 0.015136,
     "end_time": "2022-10-05T23:25:03.968395",
     "exception": false,
     "start_time": "2022-10-05T23:25:03.953259",
     "status": "completed"
    },
    "tags": []
   },
   "source": [
    "Create tfrecords"
   ]
  },
  {
   "cell_type": "code",
   "execution_count": 10,
   "id": "ecf7c9d0",
   "metadata": {
    "execution": {
     "iopub.execute_input": "2022-10-05T23:25:03.999404Z",
     "iopub.status.busy": "2022-10-05T23:25:03.998645Z",
     "iopub.status.idle": "2022-10-05T23:25:04.019441Z",
     "shell.execute_reply": "2022-10-05T23:25:04.018163Z"
    },
    "papermill": {
     "duration": 0.039532,
     "end_time": "2022-10-05T23:25:04.022139",
     "exception": false,
     "start_time": "2022-10-05T23:25:03.982607",
     "status": "completed"
    },
    "tags": []
   },
   "outputs": [],
   "source": [
    "def _bytes_feature(value):\n",
    "    \"\"\"Returns a bytes_list from a string / byte.\"\"\"\n",
    "    if isinstance(value, type(tf.constant(0))): # if value ist tensor\n",
    "        value = value.numpy() # get value of tensor\n",
    "    return tf.train.Feature(bytes_list=tf.train.BytesList(value=[value]))\n",
    "\n",
    "def _float_feature(value):\n",
    "  \"\"\"Returns a floast_list from a float / double.\"\"\"\n",
    "  return tf.train.Feature(float_list=tf.train.FloatList(value=[value]))\n",
    "\n",
    "def _int64_feature(value):\n",
    "    \"\"\"Returns an int64_list from a bool / enum / int / uint.\"\"\"\n",
    "    return tf.train.Feature(int64_list=tf.train.Int64List(value=[value]))\n",
    "\n",
    "def serialize_array(array):\n",
    "    array = tf.io.serialize_tensor(array)\n",
    "    return array\n",
    "\n",
    "def parse_single_image(image, label):\n",
    "    #define the dictionary -- the structure -- of our single example\n",
    "    data = {\n",
    "        'raw_image' : _bytes_feature(serialize_array(image)),\n",
    "        'label' : _int64_feature(label)\n",
    "    }\n",
    "    #create an Example, wrapping the single features\n",
    "    out = tf.train.Example(features=tf.train.Features(feature=data))\n",
    "    return out\n",
    "\n",
    "def parse_tfr_element(element):\n",
    "    #use the same structure as above; it's kinda an outline of the structure we now want to create\n",
    "    data = {\n",
    "      'label':tf.io.FixedLenFeature([], tf.int64),\n",
    "      'raw_image' : tf.io.FixedLenFeature([], tf.string)\n",
    "    }\n",
    "    content = tf.io.parse_single_example(element, data)\n",
    "    \n",
    "    label = content['label']\n",
    "    raw_image = content['raw_image']\n",
    "    \n",
    "    #get our 'feature'-- our image -- and reshape it appropriately\n",
    "    feature = tf.io.parse_tensor(raw_image, out_type=tf.uint8)\n",
    "    feature = tf.reshape(feature, shape=[IMG_SIZE, IMG_SIZE,3])\n",
    "    return (feature, label)\n",
    "\n",
    "def write_images_to_tfr(images, labels, image_id:str, filename:str=\"train_records\", max_files:int=10, start:int=0):\n",
    "    #determine the number of shards (single TFRecord files) we need:\n",
    "    splits = (len(images)//max_files) + 1 #determine how many tfr shards are needed\n",
    "    if len(images) % max_files == 0:\n",
    "        splits -= 1\n",
    "        print(f\"\\nUsing {splits} shard(s) for {len(images)} files, with up to {max_files} samples per shard\")\n",
    "\n",
    "    file_count = 0\n",
    "    for i in tqdm.tqdm(range(splits)):\n",
    "        current_shard_name = \"{}_{}{}.tfrecords\".format(image_id, start+i+1, filename)\n",
    "        writer = tf.io.TFRecordWriter(current_shard_name)\n",
    "\n",
    "        current_shard_count = 0\n",
    "        while current_shard_count < max_files: #as long as our shard is not full\n",
    "            #get the index of the file that we want to parse now\n",
    "            index = i*max_files+current_shard_count\n",
    "            if index == len(images): #when we have consumed the whole data, preempt generation\n",
    "                break\n",
    "            current_image = images[index]\n",
    "            current_label = labels[index]\n",
    "\n",
    "            #create the required Example representation\n",
    "            out = parse_single_image(image=current_image, label=current_label)\n",
    "            writer.write(out.SerializeToString())\n",
    "            current_shard_count+=1\n",
    "            file_count += 1\n",
    "\n",
    "    writer.close()\n",
    "    print(f\"\\nWrote {file_count} elements to TFRecord\")\n",
    "    return file_count"
   ]
  },
  {
   "cell_type": "code",
   "execution_count": 11,
   "id": "3e2e89cf",
   "metadata": {
    "execution": {
     "iopub.execute_input": "2022-10-05T23:25:04.052718Z",
     "iopub.status.busy": "2022-10-05T23:25:04.052264Z",
     "iopub.status.idle": "2022-10-05T23:35:18.969963Z",
     "shell.execute_reply": "2022-10-05T23:35:18.968664Z"
    },
    "papermill": {
     "duration": 614.936802,
     "end_time": "2022-10-05T23:35:18.973370",
     "exception": false,
     "start_time": "2022-10-05T23:25:04.036568",
     "status": "completed"
    },
    "tags": []
   },
   "outputs": [
    {
     "name": "stdout",
     "output_type": "stream",
     "text": [
      "006388\n",
      "008e5c\n",
      "00c058\n",
      "01adc5\n"
     ]
    }
   ],
   "source": [
    "from PIL import Image\n",
    "\n",
    "try:\n",
    "    os.makedirs(\"./white\")\n",
    "    os.makedirs(\"./usable\")\n",
    "except:\n",
    "    pass\n",
    "white_images_count = 0\n",
    "useful_images_count = 0\n",
    "# for image_id in tqdm(test_csv[\"image_id\"]):\n",
    "for i in range(len(test_csv[\"image_id\"])):\n",
    "    image_id = test_csv[\"image_id\"][i]\n",
    "    patient_id = test_csv[\"patient_id\"][i]\n",
    "    print(patient_id)\n",
    "    slide = openslide.open_slide(test_images_path + image_id + \".tif\")\n",
    "    tiles = DeepZoomGenerator(slide, tile_size=IMG_SIZE, overlap=0, limit_bounds=False)\n",
    "    NUM_LEVELS = tiles.level_count - 2\n",
    "    useful_images = []\n",
    "    try:\n",
    "        os.makedirs(\"./white/\" + patient_id + \"/\" + patient_id)\n",
    "        os.makedirs(\"./usable/\" + patient_id + \"/\" + patient_id)\n",
    "    except:\n",
    "        pass\n",
    "    for i in range(tiles.level_dimensions[NUM_LEVELS][0]//IMG_SIZE + 1):\n",
    "        for j in range(tiles.level_dimensions[NUM_LEVELS][1]//IMG_SIZE + 1):\n",
    "            tile = tiles.get_tile(NUM_LEVELS, (i, j))\n",
    "            ##seperate white tiles\n",
    "            if np.array(tile).mean() > 230 and np.array(tile).std() < 35:\n",
    "#                 tile.save(\"./white/\" + patient_id + \"/\" + patient_id + \"/\" + image_id + \"_\" + str(i) + \",\" + str(j) + \".jpg\")\n",
    "                white_images_count += 1\n",
    "            else:\n",
    "                useful_images_count += 1\n",
    "                useful_images.append(np.array(tile))\n",
    "                tile.save(\"./usable/\" + patient_id + \"/\" + patient_id + \"/\" + image_id + \"_\" + str(i) + \",\" + str(j) + \".jpg\")"
   ]
  },
  {
   "cell_type": "code",
   "execution_count": 12,
   "id": "9ce48165",
   "metadata": {
    "execution": {
     "iopub.execute_input": "2022-10-05T23:35:19.004952Z",
     "iopub.status.busy": "2022-10-05T23:35:19.004532Z",
     "iopub.status.idle": "2022-10-05T23:35:19.009249Z",
     "shell.execute_reply": "2022-10-05T23:35:19.008138Z"
    },
    "papermill": {
     "duration": 0.023035,
     "end_time": "2022-10-05T23:35:19.011490",
     "exception": false,
     "start_time": "2022-10-05T23:35:18.988455",
     "status": "completed"
    },
    "tags": []
   },
   "outputs": [],
   "source": [
    "##print(len(os.listdir(\"./usable\")))\n",
    "##print(len(os.listdir(\"./white\")))"
   ]
  },
  {
   "cell_type": "markdown",
   "id": "cdd9fa64",
   "metadata": {
    "papermill": {
     "duration": 0.014015,
     "end_time": "2022-10-05T23:35:19.040030",
     "exception": false,
     "start_time": "2022-10-05T23:35:19.026015",
     "status": "completed"
    },
    "tags": []
   },
   "source": [
    "Decode images from tfrecords"
   ]
  },
  {
   "cell_type": "code",
   "execution_count": 13,
   "id": "3dd45f6c",
   "metadata": {
    "execution": {
     "iopub.execute_input": "2022-10-05T23:35:19.071102Z",
     "iopub.status.busy": "2022-10-05T23:35:19.070142Z",
     "iopub.status.idle": "2022-10-05T23:35:19.080838Z",
     "shell.execute_reply": "2022-10-05T23:35:19.079667Z"
    },
    "papermill": {
     "duration": 0.028822,
     "end_time": "2022-10-05T23:35:19.083280",
     "exception": false,
     "start_time": "2022-10-05T23:35:19.054458",
     "status": "completed"
    },
    "tags": []
   },
   "outputs": [],
   "source": [
    "def decode_image(image):\n",
    "    image = tf.image.decode_jpeg(image, channels=3)\n",
    "    image = tf.cast(image, tf.float32)\n",
    "    image = tf.reshape(image, [*IMAGE_SIZE, 3])\n",
    "    return image\n",
    "def read_tfrecord(example, labeled):\n",
    "    tfrecord_format = (\n",
    "        {\n",
    "          'label':tf.io.FixedLenFeature([], tf.int64),\n",
    "          'raw_image' : tf.io.FixedLenFeature([], tf.string)\n",
    "        }\n",
    "        if labeled\n",
    "        else {\"raw_image\": tf.io.FixedLenFeature([], tf.string),}\n",
    "    )\n",
    "    example = tf.io.parse_single_example(example, tfrecord_format)\n",
    "    image = decode_image(example[\"raw_image\"])\n",
    "    if labeled:\n",
    "        label = tf.cast(example[\"label\"], tf.int32)\n",
    "        return image, label\n",
    "    return image\n",
    "def load_dataset(filenames, labeled=True):\n",
    "    ignore_order = tf.data.Options()\n",
    "    ignore_order.experimental_deterministic = False  # disable order, increase speed\n",
    "    dataset = tf.data.TFRecordDataset(\n",
    "        filenames\n",
    "    )  # automatically interleaves reads from multiple files\n",
    "    dataset = dataset.with_options(\n",
    "        ignore_order\n",
    "    )  # uses data as soon as it streams in, rather than in its original order\n",
    "    dataset = dataset.map(\n",
    "        parse_tfr_element, num_parallel_calls=AUTOTUNE\n",
    "    )\n",
    "    # returns a dataset of (image, label) pairs if labeled=True or just images if labeled=False\n",
    "    return dataset\n",
    "def get_dataset(filenames, labeled=True):\n",
    "    dataset = load_dataset(filenames, labeled=labeled)\n",
    "    dataset = dataset.shuffle(2048)\n",
    "    dataset = dataset.prefetch(buffer_size=AUTOTUNE)\n",
    "    dataset = dataset.batch(BATCH_SIZE)\n",
    "    return dataset"
   ]
  }
 ],
 "metadata": {
  "kernelspec": {
   "display_name": "Python 3",
   "language": "python",
   "name": "python3"
  },
  "language_info": {
   "codemirror_mode": {
    "name": "ipython",
    "version": 3
   },
   "file_extension": ".py",
   "mimetype": "text/x-python",
   "name": "python",
   "nbconvert_exporter": "python",
   "pygments_lexer": "ipython3",
   "version": "3.7.12"
  },
  "papermill": {
   "default_parameters": {},
   "duration": 678.237933,
   "end_time": "2022-10-05T23:35:22.427695",
   "environment_variables": {},
   "exception": null,
   "input_path": "__notebook__.ipynb",
   "output_path": "__notebook__.ipynb",
   "parameters": {},
   "start_time": "2022-10-05T23:24:04.189762",
   "version": "2.3.4"
  }
 },
 "nbformat": 4,
 "nbformat_minor": 5
}
