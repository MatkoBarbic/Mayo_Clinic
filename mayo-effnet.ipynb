{
 "cells": [
  {
   "cell_type": "code",
   "execution_count": 1,
   "id": "3eefcd3c",
   "metadata": {
    "_cell_guid": "b1076dfc-b9ad-4769-8c92-a6c4dae69d19",
    "_uuid": "8f2839f25d086af736a60e9eeb907d3b93b6e0e5",
    "execution": {
     "iopub.execute_input": "2022-10-06T21:34:26.880319Z",
     "iopub.status.busy": "2022-10-06T21:34:26.879612Z",
     "iopub.status.idle": "2022-10-06T21:34:27.990927Z",
     "shell.execute_reply": "2022-10-06T21:34:27.989779Z"
    },
    "papermill": {
     "duration": 1.119712,
     "end_time": "2022-10-06T21:34:27.993548",
     "exception": false,
     "start_time": "2022-10-06T21:34:26.873836",
     "status": "completed"
    },
    "tags": []
   },
   "outputs": [
    {
     "name": "stdout",
     "output_type": "stream",
     "text": [
      "CE:  81630\n",
      "LAA:  43207\n"
     ]
    }
   ],
   "source": [
    "import os\n",
    "\n",
    "print(\"CE: \", len(os.listdir(\"../input/mayo-clinic/First Experiment/train/CE\")))\n",
    "print(\"LAA: \", len(os.listdir(\"../input/mayo-clinic/First Experiment/train/LAA\")))"
   ]
  },
  {
   "cell_type": "code",
   "execution_count": 2,
   "id": "7dda559a",
   "metadata": {
    "execution": {
     "iopub.execute_input": "2022-10-06T21:34:28.002308Z",
     "iopub.status.busy": "2022-10-06T21:34:28.002028Z",
     "iopub.status.idle": "2022-10-06T21:34:28.006378Z",
     "shell.execute_reply": "2022-10-06T21:34:28.005393Z"
    },
    "papermill": {
     "duration": 0.010438,
     "end_time": "2022-10-06T21:34:28.008342",
     "exception": false,
     "start_time": "2022-10-06T21:34:27.997904",
     "status": "completed"
    },
    "tags": []
   },
   "outputs": [],
   "source": [
    "directory = \"../input/mayo-clinic/First Experiment/train\"\n",
    "model_path = \"./mayo_eff_net_mdl_wts.hdf5\"\n",
    "\n",
    "# https://tfhub.dev/google/collections/efficientnet_v2/1\n",
    "IMG_SIZE = 300\n",
    "BATCH_SIZE = 32\n",
    "EPOCHS = 20"
   ]
  },
  {
   "cell_type": "code",
   "execution_count": 3,
   "id": "5b7659a7",
   "metadata": {
    "execution": {
     "iopub.execute_input": "2022-10-06T21:34:28.015899Z",
     "iopub.status.busy": "2022-10-06T21:34:28.015564Z",
     "iopub.status.idle": "2022-10-06T21:36:58.067722Z",
     "shell.execute_reply": "2022-10-06T21:36:58.066577Z"
    },
    "papermill": {
     "duration": 150.058508,
     "end_time": "2022-10-06T21:36:58.069951",
     "exception": false,
     "start_time": "2022-10-06T21:34:28.011443",
     "status": "completed"
    },
    "tags": []
   },
   "outputs": [],
   "source": [
    "from IPython.display import clear_output\n",
    "\n",
    "!pip install -q tensorflow==2.4.1\n",
    "\n",
    "clear_output()"
   ]
  },
  {
   "cell_type": "code",
   "execution_count": 4,
   "id": "57e2b9b8",
   "metadata": {
    "execution": {
     "iopub.execute_input": "2022-10-06T21:36:58.078942Z",
     "iopub.status.busy": "2022-10-06T21:36:58.078171Z",
     "iopub.status.idle": "2022-10-06T21:37:02.388849Z",
     "shell.execute_reply": "2022-10-06T21:37:02.387873Z"
    },
    "papermill": {
     "duration": 4.317737,
     "end_time": "2022-10-06T21:37:02.391233",
     "exception": false,
     "start_time": "2022-10-06T21:36:58.073496",
     "status": "completed"
    },
    "tags": []
   },
   "outputs": [],
   "source": [
    "import tensorflow as tf\n",
    "\n",
    "# train_dataset = tf.keras.preprocessing.image_dataset_from_directory(\n",
    "#    directory,\n",
    "#    labels=\"inferred\",\n",
    "#    label_mode=\"categorical\",\n",
    "#    class_names=[\"CE\", \"LAA\"],\n",
    "#     color_mode=\"rgb\",\n",
    "#     batch_size=32,\n",
    "#     image_size=(IMG_SIZE, IMG_SIZE),\n",
    "#     shuffle=True,\n",
    "#     seed=1,\n",
    "#     validation_split=0.2,\n",
    "#     subset=\"training\",\n",
    "#     interpolation=\"bilinear\",\n",
    "#     follow_links=False\n",
    "# )\n",
    "\n",
    "# val_dataset = tf.keras.preprocessing.image_dataset_from_directory(\n",
    "#     directory,\n",
    "#     labels=\"inferred\",\n",
    "#     label_mode=\"categorical\",\n",
    "#     class_names=[\"CE\", \"LAA\"],\n",
    "#     color_mode=\"rgb\",\n",
    "#     batch_size=32,\n",
    "#     image_size=(IMG_SIZE, IMG_SIZE),\n",
    "#     shuffle=True,\n",
    "#     seed=1,\n",
    "#     validation_split=0.2,\n",
    "#     subset=\"validation\",\n",
    "#     interpolation=\"bilinear\",\n",
    "#     follow_links=False\n",
    "# )"
   ]
  },
  {
   "cell_type": "markdown",
   "id": "2110ac77",
   "metadata": {
    "papermill": {
     "duration": 0.002988,
     "end_time": "2022-10-06T21:37:02.397746",
     "exception": false,
     "start_time": "2022-10-06T21:37:02.394758",
     "status": "completed"
    },
    "tags": []
   },
   "source": [
    "Upsample data"
   ]
  },
  {
   "cell_type": "code",
   "execution_count": 5,
   "id": "11ef9281",
   "metadata": {
    "execution": {
     "iopub.execute_input": "2022-10-06T21:37:02.405590Z",
     "iopub.status.busy": "2022-10-06T21:37:02.405111Z",
     "iopub.status.idle": "2022-10-06T21:37:02.410401Z",
     "shell.execute_reply": "2022-10-06T21:37:02.409557Z"
    },
    "papermill": {
     "duration": 0.011631,
     "end_time": "2022-10-06T21:37:02.412530",
     "exception": false,
     "start_time": "2022-10-06T21:37:02.400899",
     "status": "completed"
    },
    "tags": []
   },
   "outputs": [],
   "source": [
    "def augment_images(image, label):\n",
    "    image = tf.image.random_flip_left_right(image)\n",
    "    return image, label\n",
    "\n",
    "# result = train_dataset.filter(lambda image, label: tf.math.reduce_all(tf.math.equal(label, [0., 1.]))).map(augment_images)\n",
    "# train_dataset = train_dataset.concatenate(result)"
   ]
  },
  {
   "cell_type": "code",
   "execution_count": 6,
   "id": "58d744d0",
   "metadata": {
    "execution": {
     "iopub.execute_input": "2022-10-06T21:37:02.419890Z",
     "iopub.status.busy": "2022-10-06T21:37:02.419610Z",
     "iopub.status.idle": "2022-10-06T21:37:03.368578Z",
     "shell.execute_reply": "2022-10-06T21:37:03.367606Z"
    },
    "papermill": {
     "duration": 0.955306,
     "end_time": "2022-10-06T21:37:03.370998",
     "exception": false,
     "start_time": "2022-10-06T21:37:02.415692",
     "status": "completed"
    },
    "tags": []
   },
   "outputs": [],
   "source": [
    "# from tensorflow.keras.applications.efficientnet_v2 import *\n",
    "from tensorflow.keras.applications.efficientnet import EfficientNetB3\n",
    "from tensorflow.keras import layers\n",
    "\n",
    "def build_model():\n",
    "    inputs = layers.Input(shape=(IMG_SIZE, IMG_SIZE, 3))\n",
    "#     model = tf.keras.applications.efficientnet_v2.EfficientNetV2B3(include_top=False, input_tensor=inputs, weights=\"imagenet\")\n",
    "    model = EfficientNetB3(include_top=False, input_tensor=inputs, weights=None)\n",
    "    x = layers.GlobalAveragePooling2D(name=\"avg_pool\")(model.output)\n",
    "    x = layers.BatchNormalization()(x)\n",
    "    top_dropout_rate = 0.1\n",
    "    x = layers.Dropout(top_dropout_rate, name=\"top_dropout\")(x)\n",
    "    outputs = layers.Dense(2, activation=\"sigmoid\", name=\"pred\")(x)\n",
    "    model = tf.keras.Model(inputs, outputs, name=\"EfficientNet\")\n",
    "    optimizer = tf.keras.optimizers.Adam(learning_rate=1e-2)\n",
    "    model.compile(optimizer=optimizer, loss=\"binary_crossentropy\", metrics=[\"binary_accuracy\"])\n",
    "    return model"
   ]
  },
  {
   "cell_type": "code",
   "execution_count": 7,
   "id": "50c41d95",
   "metadata": {
    "execution": {
     "iopub.execute_input": "2022-10-06T21:37:03.379406Z",
     "iopub.status.busy": "2022-10-06T21:37:03.378574Z",
     "iopub.status.idle": "2022-10-06T21:37:10.040186Z",
     "shell.execute_reply": "2022-10-06T21:37:10.039175Z"
    },
    "papermill": {
     "duration": 6.668536,
     "end_time": "2022-10-06T21:37:10.042909",
     "exception": false,
     "start_time": "2022-10-06T21:37:03.374373",
     "status": "completed"
    },
    "tags": []
   },
   "outputs": [
    {
     "name": "stderr",
     "output_type": "stream",
     "text": [
      "2022-10-06 21:37:03.480687: I tensorflow/stream_executor/cuda/cuda_gpu_executor.cc:937] successful NUMA node read from SysFS had negative value (-1), but there must be at least one NUMA node, so returning NUMA node zero\n",
      "2022-10-06 21:37:03.581037: I tensorflow/stream_executor/cuda/cuda_gpu_executor.cc:937] successful NUMA node read from SysFS had negative value (-1), but there must be at least one NUMA node, so returning NUMA node zero\n",
      "2022-10-06 21:37:03.581782: I tensorflow/stream_executor/cuda/cuda_gpu_executor.cc:937] successful NUMA node read from SysFS had negative value (-1), but there must be at least one NUMA node, so returning NUMA node zero\n",
      "2022-10-06 21:37:03.583327: I tensorflow/core/platform/cpu_feature_guard.cc:142] This TensorFlow binary is optimized with oneAPI Deep Neural Network Library (oneDNN) to use the following CPU instructions in performance-critical operations:  AVX2 AVX512F FMA\n",
      "To enable them in other operations, rebuild TensorFlow with the appropriate compiler flags.\n",
      "2022-10-06 21:37:03.583679: I tensorflow/stream_executor/cuda/cuda_gpu_executor.cc:937] successful NUMA node read from SysFS had negative value (-1), but there must be at least one NUMA node, so returning NUMA node zero\n",
      "2022-10-06 21:37:03.584566: I tensorflow/stream_executor/cuda/cuda_gpu_executor.cc:937] successful NUMA node read from SysFS had negative value (-1), but there must be at least one NUMA node, so returning NUMA node zero\n",
      "2022-10-06 21:37:03.585489: I tensorflow/stream_executor/cuda/cuda_gpu_executor.cc:937] successful NUMA node read from SysFS had negative value (-1), but there must be at least one NUMA node, so returning NUMA node zero\n",
      "2022-10-06 21:37:05.966646: I tensorflow/stream_executor/cuda/cuda_gpu_executor.cc:937] successful NUMA node read from SysFS had negative value (-1), but there must be at least one NUMA node, so returning NUMA node zero\n",
      "2022-10-06 21:37:05.967784: I tensorflow/stream_executor/cuda/cuda_gpu_executor.cc:937] successful NUMA node read from SysFS had negative value (-1), but there must be at least one NUMA node, so returning NUMA node zero\n",
      "2022-10-06 21:37:05.968740: I tensorflow/stream_executor/cuda/cuda_gpu_executor.cc:937] successful NUMA node read from SysFS had negative value (-1), but there must be at least one NUMA node, so returning NUMA node zero\n",
      "2022-10-06 21:37:05.969627: I tensorflow/core/common_runtime/gpu/gpu_device.cc:1510] Created device /job:localhost/replica:0/task:0/device:GPU:0 with 15401 MB memory:  -> device: 0, name: Tesla P100-PCIE-16GB, pci bus id: 0000:00:04.0, compute capability: 6.0\n"
     ]
    }
   ],
   "source": [
    "from tensorflow.keras.callbacks import ModelCheckpoint\n",
    "\n",
    "model = build_model()\n",
    "epochs = 25\n",
    "model_checkpoint_callback = ModelCheckpoint(\n",
    "    filepath=model_path,\n",
    "    save_weights_only=True,\n",
    "    monitor='val_loss',\n",
    "    mode='min',\n",
    "    save_best_only=True)\n",
    "\n",
    "model.load_weights(\"../input/mayo-effnet-weights-v1/mayo_eff_net_mdl_wts.hdf5\")\n",
    "# model.fit(train_dataset, batch_size=BATCH_SIZE, epochs=EPOCHS, validation_data=val_dataset, verbose=1, callbacks=[model_checkpoint_callback], shuffle=False)"
   ]
  },
  {
   "cell_type": "code",
   "execution_count": 8,
   "id": "ae037670",
   "metadata": {
    "execution": {
     "iopub.execute_input": "2022-10-06T21:37:10.051340Z",
     "iopub.status.busy": "2022-10-06T21:37:10.051022Z",
     "iopub.status.idle": "2022-10-06T21:37:10.055477Z",
     "shell.execute_reply": "2022-10-06T21:37:10.054433Z"
    },
    "papermill": {
     "duration": 0.011282,
     "end_time": "2022-10-06T21:37:10.057816",
     "exception": false,
     "start_time": "2022-10-06T21:37:10.046534",
     "status": "completed"
    },
    "tags": []
   },
   "outputs": [],
   "source": [
    "# model.save(\"./mayo_eff_net_mdl_wts.hdf5\")"
   ]
  },
  {
   "cell_type": "code",
   "execution_count": 9,
   "id": "61db51db",
   "metadata": {
    "execution": {
     "iopub.execute_input": "2022-10-06T21:37:10.065818Z",
     "iopub.status.busy": "2022-10-06T21:37:10.065466Z",
     "iopub.status.idle": "2022-10-06T21:37:32.724413Z",
     "shell.execute_reply": "2022-10-06T21:37:32.722984Z"
    },
    "papermill": {
     "duration": 22.665196,
     "end_time": "2022-10-06T21:37:32.726411",
     "exception": false,
     "start_time": "2022-10-06T21:37:10.061215",
     "status": "completed"
    },
    "tags": []
   },
   "outputs": [
    {
     "name": "stderr",
     "output_type": "stream",
     "text": [
      "  0%|          | 0/4 [00:00<?, ?it/s]2022-10-06 21:37:10.266690: I tensorflow/compiler/mlir/mlir_graph_optimization_pass.cc:185] None of the MLIR Optimization Passes are enabled (registered 2)\n"
     ]
    },
    {
     "name": "stdout",
     "output_type": "stream",
     "text": [
      "Found 476 files belonging to 1 classes.\n"
     ]
    },
    {
     "name": "stderr",
     "output_type": "stream",
     "text": [
      "2022-10-06 21:37:13.165768: I tensorflow/stream_executor/cuda/cuda_dnn.cc:369] Loaded cuDNN version 8005\n",
      " 25%|██▌       | 1/4 [00:11<00:33, 11.04s/it]"
     ]
    },
    {
     "name": "stdout",
     "output_type": "stream",
     "text": [
      "Found 1826 files belonging to 1 classes.\n"
     ]
    },
    {
     "name": "stderr",
     "output_type": "stream",
     "text": [
      " 50%|█████     | 2/4 [00:18<00:18,  9.22s/it]"
     ]
    },
    {
     "name": "stdout",
     "output_type": "stream",
     "text": [
      "Found 567 files belonging to 1 classes.\n"
     ]
    },
    {
     "name": "stderr",
     "output_type": "stream",
     "text": [
      " 75%|███████▌  | 3/4 [00:21<00:06,  6.20s/it]"
     ]
    },
    {
     "name": "stdout",
     "output_type": "stream",
     "text": [
      "Found 135 files belonging to 1 classes.\n"
     ]
    },
    {
     "name": "stderr",
     "output_type": "stream",
     "text": [
      "100%|██████████| 4/4 [00:22<00:00,  5.66s/it]\n"
     ]
    }
   ],
   "source": [
    "import pandas as pd\n",
    "from tqdm import tqdm\n",
    "import numpy as np\n",
    "\n",
    "test_directory = \"../input/tiling-example/usable\"\n",
    "df = pd.DataFrame(columns=[\"patient_id\", \"CE\", \"LAA\"])\n",
    "for patient_id in tqdm(os.listdir(test_directory)):\n",
    "#     print(test_directory + \"/\" + patient_id + \"/\")\n",
    "    test_dataset = tf.keras.preprocessing.image_dataset_from_directory(\n",
    "        test_directory + \"/\" + patient_id + \"/\",\n",
    "        label_mode=None,\n",
    "        class_names=None,\n",
    "        color_mode=\"rgb\",\n",
    "        batch_size=32,\n",
    "        image_size=(IMG_SIZE, IMG_SIZE),\n",
    "        shuffle=False,\n",
    "        seed=None,\n",
    "        validation_split=None,\n",
    "        subset=None,\n",
    "        interpolation=\"bilinear\",\n",
    "        follow_links=False\n",
    "    )\n",
    "    preds = model.predict(test_dataset)\n",
    "    df.loc[len(df.index)] = [patient_id, np.float64(preds.mean(axis=0)[0].round(6)), np.float64(preds.mean(axis=0)[1].round(6))]"
   ]
  },
  {
   "cell_type": "code",
   "execution_count": 10,
   "id": "61ec8ea4",
   "metadata": {
    "execution": {
     "iopub.execute_input": "2022-10-06T21:37:32.736334Z",
     "iopub.status.busy": "2022-10-06T21:37:32.735654Z",
     "iopub.status.idle": "2022-10-06T21:37:32.778571Z",
     "shell.execute_reply": "2022-10-06T21:37:32.777752Z"
    },
    "papermill": {
     "duration": 0.049827,
     "end_time": "2022-10-06T21:37:32.780527",
     "exception": false,
     "start_time": "2022-10-06T21:37:32.730700",
     "status": "completed"
    },
    "tags": []
   },
   "outputs": [
    {
     "data": {
      "text/html": [
       "<div>\n",
       "<style scoped>\n",
       "    .dataframe tbody tr th:only-of-type {\n",
       "        vertical-align: middle;\n",
       "    }\n",
       "\n",
       "    .dataframe tbody tr th {\n",
       "        vertical-align: top;\n",
       "    }\n",
       "\n",
       "    .dataframe thead th {\n",
       "        text-align: right;\n",
       "    }\n",
       "</style>\n",
       "<table border=\"1\" class=\"dataframe\">\n",
       "  <thead>\n",
       "    <tr style=\"text-align: right;\">\n",
       "      <th></th>\n",
       "      <th>patient_id</th>\n",
       "      <th>CE</th>\n",
       "      <th>LAA</th>\n",
       "    </tr>\n",
       "  </thead>\n",
       "  <tbody>\n",
       "    <tr>\n",
       "      <th>0</th>\n",
       "      <td>006388</td>\n",
       "      <td>0.737600</td>\n",
       "      <td>0.265473</td>\n",
       "    </tr>\n",
       "    <tr>\n",
       "      <th>1</th>\n",
       "      <td>008e5c</td>\n",
       "      <td>0.739754</td>\n",
       "      <td>0.263429</td>\n",
       "    </tr>\n",
       "    <tr>\n",
       "      <th>2</th>\n",
       "      <td>00c058</td>\n",
       "      <td>0.698929</td>\n",
       "      <td>0.304127</td>\n",
       "    </tr>\n",
       "    <tr>\n",
       "      <th>3</th>\n",
       "      <td>01adc5</td>\n",
       "      <td>0.443714</td>\n",
       "      <td>0.559946</td>\n",
       "    </tr>\n",
       "  </tbody>\n",
       "</table>\n",
       "</div>"
      ],
      "text/plain": [
       "  patient_id        CE       LAA\n",
       "0     006388  0.737600  0.265473\n",
       "1     008e5c  0.739754  0.263429\n",
       "2     00c058  0.698929  0.304127\n",
       "3     01adc5  0.443714  0.559946"
      ]
     },
     "metadata": {},
     "output_type": "display_data"
    },
    {
     "data": {
      "text/html": [
       "<div>\n",
       "<style scoped>\n",
       "    .dataframe tbody tr th:only-of-type {\n",
       "        vertical-align: middle;\n",
       "    }\n",
       "\n",
       "    .dataframe tbody tr th {\n",
       "        vertical-align: top;\n",
       "    }\n",
       "\n",
       "    .dataframe thead th {\n",
       "        text-align: right;\n",
       "    }\n",
       "</style>\n",
       "<table border=\"1\" class=\"dataframe\">\n",
       "  <thead>\n",
       "    <tr style=\"text-align: right;\">\n",
       "      <th></th>\n",
       "      <th>patient_id</th>\n",
       "      <th>CE</th>\n",
       "      <th>LAA</th>\n",
       "    </tr>\n",
       "  </thead>\n",
       "  <tbody>\n",
       "    <tr>\n",
       "      <th>0</th>\n",
       "      <td>006388</td>\n",
       "      <td>0.5</td>\n",
       "      <td>0.5</td>\n",
       "    </tr>\n",
       "    <tr>\n",
       "      <th>1</th>\n",
       "      <td>008e5c</td>\n",
       "      <td>0.5</td>\n",
       "      <td>0.5</td>\n",
       "    </tr>\n",
       "    <tr>\n",
       "      <th>2</th>\n",
       "      <td>00c058</td>\n",
       "      <td>0.5</td>\n",
       "      <td>0.5</td>\n",
       "    </tr>\n",
       "    <tr>\n",
       "      <th>3</th>\n",
       "      <td>01adc5</td>\n",
       "      <td>0.5</td>\n",
       "      <td>0.5</td>\n",
       "    </tr>\n",
       "  </tbody>\n",
       "</table>\n",
       "</div>"
      ],
      "text/plain": [
       "  patient_id   CE  LAA\n",
       "0     006388  0.5  0.5\n",
       "1     008e5c  0.5  0.5\n",
       "2     00c058  0.5  0.5\n",
       "3     01adc5  0.5  0.5"
      ]
     },
     "metadata": {},
     "output_type": "display_data"
    },
    {
     "data": {
      "text/html": [
       "<div>\n",
       "<style scoped>\n",
       "    .dataframe tbody tr th:only-of-type {\n",
       "        vertical-align: middle;\n",
       "    }\n",
       "\n",
       "    .dataframe tbody tr th {\n",
       "        vertical-align: top;\n",
       "    }\n",
       "\n",
       "    .dataframe thead th {\n",
       "        text-align: right;\n",
       "    }\n",
       "</style>\n",
       "<table border=\"1\" class=\"dataframe\">\n",
       "  <thead>\n",
       "    <tr style=\"text-align: right;\">\n",
       "      <th></th>\n",
       "      <th>patient_id</th>\n",
       "      <th>CE</th>\n",
       "      <th>LAA</th>\n",
       "    </tr>\n",
       "  </thead>\n",
       "  <tbody>\n",
       "    <tr>\n",
       "      <th>0</th>\n",
       "      <td>006388</td>\n",
       "      <td>0.737600</td>\n",
       "      <td>0.265473</td>\n",
       "    </tr>\n",
       "    <tr>\n",
       "      <th>1</th>\n",
       "      <td>008e5c</td>\n",
       "      <td>0.739754</td>\n",
       "      <td>0.263429</td>\n",
       "    </tr>\n",
       "    <tr>\n",
       "      <th>2</th>\n",
       "      <td>00c058</td>\n",
       "      <td>0.698929</td>\n",
       "      <td>0.304127</td>\n",
       "    </tr>\n",
       "    <tr>\n",
       "      <th>3</th>\n",
       "      <td>01adc5</td>\n",
       "      <td>0.443714</td>\n",
       "      <td>0.559946</td>\n",
       "    </tr>\n",
       "  </tbody>\n",
       "</table>\n",
       "</div>"
      ],
      "text/plain": [
       "  patient_id        CE       LAA\n",
       "0     006388  0.737600  0.265473\n",
       "1     008e5c  0.739754  0.263429\n",
       "2     00c058  0.698929  0.304127\n",
       "3     01adc5  0.443714  0.559946"
      ]
     },
     "metadata": {},
     "output_type": "display_data"
    }
   ],
   "source": [
    "df = df.sort_values(\"patient_id\")\n",
    "df = df.reset_index(drop=True)\n",
    "display(df)\n",
    "df.to_csv(\"submission.csv\", index=False)\n",
    "\n",
    "test_csv  = pd.read_csv('../input/mayo-clinic-strip-ai/sample_submission.csv')\n",
    "display(test_csv)\n",
    "submission = test_csv\n",
    "submission = submission.sort_values(\"patient_id\")\n",
    "submission[\"CE\"] = df[\"CE\"]\n",
    "submission[\"LAA\"] = df[\"LAA\"]\n",
    "# submission = submission.groupby(\"patient_id\").mean()\n",
    "display(submission)\n",
    "\n",
    "submission.to_csv(\"submission.csv\", index=False)"
   ]
  },
  {
   "cell_type": "code",
   "execution_count": 11,
   "id": "59cbb360",
   "metadata": {
    "execution": {
     "iopub.execute_input": "2022-10-06T21:37:32.790798Z",
     "iopub.status.busy": "2022-10-06T21:37:32.790511Z",
     "iopub.status.idle": "2022-10-06T21:37:32.794388Z",
     "shell.execute_reply": "2022-10-06T21:37:32.793432Z"
    },
    "papermill": {
     "duration": 0.011218,
     "end_time": "2022-10-06T21:37:32.796404",
     "exception": false,
     "start_time": "2022-10-06T21:37:32.785186",
     "status": "completed"
    },
    "tags": []
   },
   "outputs": [],
   "source": [
    "# print(df[\"patient_id\"])\n",
    "# print(df[\"CE\"])\n",
    "# print(df[\"LAA\"])"
   ]
  },
  {
   "cell_type": "code",
   "execution_count": 12,
   "id": "7f7f236e",
   "metadata": {
    "execution": {
     "iopub.execute_input": "2022-10-06T21:37:32.806087Z",
     "iopub.status.busy": "2022-10-06T21:37:32.805835Z",
     "iopub.status.idle": "2022-10-06T21:37:32.809256Z",
     "shell.execute_reply": "2022-10-06T21:37:32.808511Z"
    },
    "papermill": {
     "duration": 0.010507,
     "end_time": "2022-10-06T21:37:32.811163",
     "exception": false,
     "start_time": "2022-10-06T21:37:32.800656",
     "status": "completed"
    },
    "tags": []
   },
   "outputs": [],
   "source": [
    "# print(test_csv[\"patient_id\"])\n",
    "# print(test_csv[\"CE\"])\n",
    "# print(test_csv[\"LAA\"])"
   ]
  }
 ],
 "metadata": {
  "kernelspec": {
   "display_name": "Python 3",
   "language": "python",
   "name": "python3"
  },
  "language_info": {
   "codemirror_mode": {
    "name": "ipython",
    "version": 3
   },
   "file_extension": ".py",
   "mimetype": "text/x-python",
   "name": "python",
   "nbconvert_exporter": "python",
   "pygments_lexer": "ipython3",
   "version": "3.7.12"
  },
  "papermill": {
   "default_parameters": {},
   "duration": 197.311213,
   "end_time": "2022-10-06T21:37:36.488797",
   "environment_variables": {},
   "exception": null,
   "input_path": "__notebook__.ipynb",
   "output_path": "__notebook__.ipynb",
   "parameters": {},
   "start_time": "2022-10-06T21:34:19.177584",
   "version": "2.3.4"
  }
 },
 "nbformat": 4,
 "nbformat_minor": 5
}
